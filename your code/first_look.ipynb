{
 "cells": [
  {
   "cell_type": "code",
   "execution_count": 1,
   "metadata": {},
   "outputs": [],
   "source": [
    "import pandas as pd\n",
    "import pymysql\n",
    "from sqlalchemy import create_engine"
   ]
  },
  {
   "cell_type": "code",
   "execution_count": 2,
   "metadata": {},
   "outputs": [],
   "source": [
    "# connection database\n",
    "sqlitedb_rel_path = '../data/raw_data_project_m1.db'\n",
    "\n",
    "conn_str = f'sqlite:///{sqlitedb_rel_path}'\n",
    "\n",
    "engine = create_engine(conn_str)\n"
   ]
  },
  {
   "cell_type": "code",
   "execution_count": 3,
   "metadata": {},
   "outputs": [
    {
     "data": {
      "text/html": [
       "<div>\n",
       "<style scoped>\n",
       "    .dataframe tbody tr th:only-of-type {\n",
       "        vertical-align: middle;\n",
       "    }\n",
       "\n",
       "    .dataframe tbody tr th {\n",
       "        vertical-align: top;\n",
       "    }\n",
       "\n",
       "    .dataframe thead th {\n",
       "        text-align: right;\n",
       "    }\n",
       "</style>\n",
       "<table border=\"1\" class=\"dataframe\">\n",
       "  <thead>\n",
       "    <tr style=\"text-align: right;\">\n",
       "      <th></th>\n",
       "      <th>name</th>\n",
       "    </tr>\n",
       "  </thead>\n",
       "  <tbody>\n",
       "    <tr>\n",
       "      <th>0</th>\n",
       "      <td>personal_info</td>\n",
       "    </tr>\n",
       "    <tr>\n",
       "      <th>1</th>\n",
       "      <td>country_info</td>\n",
       "    </tr>\n",
       "    <tr>\n",
       "      <th>2</th>\n",
       "      <td>career_info</td>\n",
       "    </tr>\n",
       "    <tr>\n",
       "      <th>3</th>\n",
       "      <td>poll_info</td>\n",
       "    </tr>\n",
       "  </tbody>\n",
       "</table>\n",
       "</div>"
      ],
      "text/plain": [
       "            name\n",
       "0  personal_info\n",
       "1   country_info\n",
       "2    career_info\n",
       "3      poll_info"
      ]
     },
     "execution_count": 3,
     "metadata": {},
     "output_type": "execute_result"
    }
   ],
   "source": [
    "# list all tables in database\n",
    "pd.read_sql_query(\"SELECT name FROM sqlite_master WHERE type='table'\", engine)"
   ]
  },
  {
   "cell_type": "markdown",
   "metadata": {},
   "source": [
    "## Personal_info table"
   ]
  },
  {
   "cell_type": "code",
   "execution_count": 4,
   "metadata": {},
   "outputs": [
    {
     "data": {
      "text/html": [
       "<div>\n",
       "<style scoped>\n",
       "    .dataframe tbody tr th:only-of-type {\n",
       "        vertical-align: middle;\n",
       "    }\n",
       "\n",
       "    .dataframe tbody tr th {\n",
       "        vertical-align: top;\n",
       "    }\n",
       "\n",
       "    .dataframe thead th {\n",
       "        text-align: right;\n",
       "    }\n",
       "</style>\n",
       "<table border=\"1\" class=\"dataframe\">\n",
       "  <thead>\n",
       "    <tr style=\"text-align: right;\">\n",
       "      <th></th>\n",
       "      <th>uuid</th>\n",
       "      <th>age</th>\n",
       "      <th>gender</th>\n",
       "      <th>dem_has_children</th>\n",
       "      <th>age_group</th>\n",
       "    </tr>\n",
       "  </thead>\n",
       "  <tbody>\n",
       "    <tr>\n",
       "      <th>0</th>\n",
       "      <td>f6e7ee00-deac-0133-4de8-0a81e8b09a82</td>\n",
       "      <td>61 years old</td>\n",
       "      <td>male</td>\n",
       "      <td>NO</td>\n",
       "      <td>40_65</td>\n",
       "    </tr>\n",
       "    <tr>\n",
       "      <th>1</th>\n",
       "      <td>54f0f1c0-dda1-0133-a559-0a81e8b09a82</td>\n",
       "      <td>57 years old</td>\n",
       "      <td>male</td>\n",
       "      <td>yES</td>\n",
       "      <td>40_65</td>\n",
       "    </tr>\n",
       "    <tr>\n",
       "      <th>2</th>\n",
       "      <td>83127080-da3d-0133-c74f-0a81e8b09a82</td>\n",
       "      <td>32 years old</td>\n",
       "      <td>male</td>\n",
       "      <td>nO</td>\n",
       "      <td>26_39</td>\n",
       "    </tr>\n",
       "    <tr>\n",
       "      <th>3</th>\n",
       "      <td>15626d40-db13-0133-ea5c-0a81e8b09a82</td>\n",
       "      <td>45 years old</td>\n",
       "      <td>Male</td>\n",
       "      <td>YES</td>\n",
       "      <td>40_65</td>\n",
       "    </tr>\n",
       "    <tr>\n",
       "      <th>4</th>\n",
       "      <td>24954a70-db98-0133-4a64-0a81e8b09a82</td>\n",
       "      <td>41 years old</td>\n",
       "      <td>Fem</td>\n",
       "      <td>yES</td>\n",
       "      <td>40_65</td>\n",
       "    </tr>\n",
       "    <tr>\n",
       "      <th>5</th>\n",
       "      <td>28583060-dbe2-0133-ff9c-0a81e8b09a82</td>\n",
       "      <td>1990</td>\n",
       "      <td>FeMale</td>\n",
       "      <td>NO</td>\n",
       "      <td>26_39</td>\n",
       "    </tr>\n",
       "    <tr>\n",
       "      <th>6</th>\n",
       "      <td>b50dbb80-da53-0133-8956-0a81e8b09a82</td>\n",
       "      <td>1990</td>\n",
       "      <td>Fem</td>\n",
       "      <td>NO</td>\n",
       "      <td>26_39</td>\n",
       "    </tr>\n",
       "    <tr>\n",
       "      <th>7</th>\n",
       "      <td>dd743bb0-d9a5-0133-53b2-0a81e8b09a82</td>\n",
       "      <td>47 years old</td>\n",
       "      <td>Male</td>\n",
       "      <td>NO</td>\n",
       "      <td>40_65</td>\n",
       "    </tr>\n",
       "    <tr>\n",
       "      <th>8</th>\n",
       "      <td>4fde2370-da48-0133-3a42-0a81e8b09a82</td>\n",
       "      <td>34 years old</td>\n",
       "      <td>FeMale</td>\n",
       "      <td>nO</td>\n",
       "      <td>26_39</td>\n",
       "    </tr>\n",
       "    <tr>\n",
       "      <th>9</th>\n",
       "      <td>9949c4c0-da5f-0133-c832-0a81e8b09a82</td>\n",
       "      <td>1994</td>\n",
       "      <td>female</td>\n",
       "      <td>yES</td>\n",
       "      <td>juvenile</td>\n",
       "    </tr>\n",
       "  </tbody>\n",
       "</table>\n",
       "</div>"
      ],
      "text/plain": [
       "                                   uuid           age  gender  \\\n",
       "0  f6e7ee00-deac-0133-4de8-0a81e8b09a82  61 years old    male   \n",
       "1  54f0f1c0-dda1-0133-a559-0a81e8b09a82  57 years old    male   \n",
       "2  83127080-da3d-0133-c74f-0a81e8b09a82  32 years old    male   \n",
       "3  15626d40-db13-0133-ea5c-0a81e8b09a82  45 years old    Male   \n",
       "4  24954a70-db98-0133-4a64-0a81e8b09a82  41 years old     Fem   \n",
       "5  28583060-dbe2-0133-ff9c-0a81e8b09a82          1990  FeMale   \n",
       "6  b50dbb80-da53-0133-8956-0a81e8b09a82          1990     Fem   \n",
       "7  dd743bb0-d9a5-0133-53b2-0a81e8b09a82  47 years old    Male   \n",
       "8  4fde2370-da48-0133-3a42-0a81e8b09a82  34 years old  FeMale   \n",
       "9  9949c4c0-da5f-0133-c832-0a81e8b09a82          1994  female   \n",
       "\n",
       "  dem_has_children age_group  \n",
       "0               NO     40_65  \n",
       "1              yES     40_65  \n",
       "2               nO     26_39  \n",
       "3              YES     40_65  \n",
       "4              yES     40_65  \n",
       "5               NO     26_39  \n",
       "6               NO     26_39  \n",
       "7               NO     40_65  \n",
       "8               nO     26_39  \n",
       "9              yES  juvenile  "
      ]
     },
     "execution_count": 4,
     "metadata": {},
     "output_type": "execute_result"
    }
   ],
   "source": [
    "personal_info = pd.read_sql_query(\"select * from personal_info\", engine)\n",
    "personal_info.head(10)"
   ]
  },
  {
   "cell_type": "code",
   "execution_count": 23,
   "metadata": {},
   "outputs": [
    {
     "data": {
      "text/plain": [
       "array(['61 years old', '57 years old', '32 years old', '45 years old',\n",
       "       '41 years old', '1990', '47 years old', '34 years old', '1994',\n",
       "       '49 years old', '58 years old', '1991', '40 years old',\n",
       "       '37 years old', '48 years old', '31 years old', '1999', '1989',\n",
       "       '2001', '35 years old', '51 years old', '1988', '42 years old',\n",
       "       '33 years old', '64 years old', '38 years old', '55 years old',\n",
       "       '1992', '1993', '36 years old', '46 years old', '1998',\n",
       "       '44 years old', '1996', '65 years old', '1995', '52 years old',\n",
       "       '2002', '50 years old', '1997', '43 years old', '1987', '1986',\n",
       "       '39 years old', '53 years old', '62 years old', '2000',\n",
       "       '54 years old', '56 years old', '59 years old', '60 years old',\n",
       "       '63 years old'], dtype=object)"
      ]
     },
     "execution_count": 23,
     "metadata": {},
     "output_type": "execute_result"
    }
   ],
   "source": [
    "#age-->cambiar año por nº years old\n",
    "personal_info['age'].unique()"
   ]
  },
  {
   "cell_type": "code",
   "execution_count": 29,
   "metadata": {},
   "outputs": [
    {
     "data": {
      "text/plain": [
       "0       61 years old\n",
       "1       57 years old\n",
       "2       32 years old\n",
       "3       45 years old\n",
       "4       41 years old\n",
       "            ...     \n",
       "9644    37 years old\n",
       "9645    53 years old\n",
       "9646    24 years old\n",
       "9647    47 years old\n",
       "9648    51 years old\n",
       "Name: age, Length: 9649, dtype: object"
      ]
     },
     "execution_count": 29,
     "metadata": {},
     "output_type": "execute_result"
    }
   ],
   "source": [
    "#1990= 26 years old.1994= 22 years old. 1991= 25 years old. 1999= 17 years old. 1989= 27 years old. 2001= 15 years old. 1988= 28 years old. 1992= 24 years old.\n",
    "#1993= 23 years old. 1998= 18 years old. 1996= 20 years old.1995= 21 years old. 2002= 14 years old.1997= 19 years old.1987= 29 years old.1986= 30 years old.\n",
    "#2000= 16 years old.\n",
    "personal_info['age'] = personal_info['age'].replace('1990', '26 years old')\n",
    "personal_info['age'] = personal_info['age'].replace('1994', '22 years old')\n",
    "personal_info['age'] = personal_info['age'].replace('1991', '25 years old')\n",
    "personal_info['age'] = personal_info['age'].replace('1999', '17 years old')\n",
    "personal_info['age'] = personal_info['age'].replace('1989', '27 years old')\n",
    "personal_info['age'] = personal_info['age'].replace('2001', '15 years old')\n",
    "personal_info['age'] = personal_info['age'].replace('1988', '28 years old')\n",
    "personal_info['age'] = personal_info['age'].replace('1992', '24 years old')\n",
    "personal_info['age'] = personal_info['age'].replace('1993', '23 years old')\n",
    "personal_info['age'] = personal_info['age'].replace('1998', '18 years old')\n",
    "personal_info['age'] = personal_info['age'].replace('1996', '20 years old')\n",
    "personal_info['age'] = personal_info['age'].replace('1995', '21 years old')\n",
    "personal_info['age'] = personal_info['age'].replace('2002', '14 years old')\n",
    "personal_info['age'] = personal_info['age'].replace('1997', '19 years old')\n",
    "personal_info['age'] = personal_info['age'].replace('1987', '29 years old')\n",
    "personal_info['age'] = personal_info['age'].replace('1986', '30 years old')\n",
    "personal_info['age'] = personal_info['age'].replace('2000', '16 years old')\n",
    "personal_info['age']"
   ]
  },
  {
   "cell_type": "code",
   "execution_count": 6,
   "metadata": {},
   "outputs": [
    {
     "data": {
      "text/plain": [
       "array(['male', 'Male', 'Fem', 'FeMale', 'female'], dtype=object)"
      ]
     },
     "execution_count": 6,
     "metadata": {},
     "output_type": "execute_result"
    }
   ],
   "source": [
    "#gender-->cambiar todo a Male/Female\n",
    "personal_info['gender'].unique()"
   ]
  },
  {
   "cell_type": "code",
   "execution_count": 7,
   "metadata": {},
   "outputs": [
    {
     "data": {
      "text/plain": [
       "0         Male\n",
       "1         Male\n",
       "2         Male\n",
       "3         Male\n",
       "4          Fem\n",
       "         ...  \n",
       "9644    Female\n",
       "9645      Male\n",
       "9646      Male\n",
       "9647      Male\n",
       "9648    Female\n",
       "Name: gender, Length: 9649, dtype: object"
      ]
     },
     "execution_count": 7,
     "metadata": {},
     "output_type": "execute_result"
    }
   ],
   "source": [
    "personal_info['gender'] = personal_info['gender'].str.capitalize()\n",
    "personal_info['gender']"
   ]
  },
  {
   "cell_type": "code",
   "execution_count": 8,
   "metadata": {},
   "outputs": [
    {
     "data": {
      "text/plain": [
       "0         Male\n",
       "1         Male\n",
       "2         Male\n",
       "3         Male\n",
       "4       Female\n",
       "         ...  \n",
       "9644    Female\n",
       "9645      Male\n",
       "9646      Male\n",
       "9647      Male\n",
       "9648    Female\n",
       "Name: gender, Length: 9649, dtype: object"
      ]
     },
     "execution_count": 8,
     "metadata": {},
     "output_type": "execute_result"
    }
   ],
   "source": [
    "personal_info['gender'] = personal_info['gender'].replace('Fem', 'Female')\n",
    "personal_info['gender']"
   ]
  },
  {
   "cell_type": "code",
   "execution_count": 9,
   "metadata": {},
   "outputs": [
    {
     "data": {
      "text/plain": [
       "0        NO\n",
       "1       yES\n",
       "2        nO\n",
       "3       YES\n",
       "4       yES\n",
       "       ... \n",
       "9644     nO\n",
       "9645    yES\n",
       "9646     NO\n",
       "9647    yES\n",
       "9648    YES\n",
       "Name: dem_has_children, Length: 9649, dtype: object"
      ]
     },
     "execution_count": 9,
     "metadata": {},
     "output_type": "execute_result"
    }
   ],
   "source": [
    "#children--> cambiar todo a Yes/No\n",
    "personal_info['dem_has_children']"
   ]
  },
  {
   "cell_type": "code",
   "execution_count": 10,
   "metadata": {},
   "outputs": [
    {
     "data": {
      "text/plain": [
       "0        No\n",
       "1       Yes\n",
       "2        No\n",
       "3       Yes\n",
       "4       Yes\n",
       "       ... \n",
       "9644     No\n",
       "9645    Yes\n",
       "9646     No\n",
       "9647    Yes\n",
       "9648    Yes\n",
       "Name: dem_has_children, Length: 9649, dtype: object"
      ]
     },
     "execution_count": 10,
     "metadata": {},
     "output_type": "execute_result"
    }
   ],
   "source": [
    "personal_info['dem_has_children'] = personal_info['dem_has_children'].str.capitalize()\n",
    "personal_info['dem_has_children']"
   ]
  },
  {
   "cell_type": "code",
   "execution_count": 11,
   "metadata": {},
   "outputs": [
    {
     "data": {
      "text/plain": [
       "array(['40_65', '26_39', 'juvenile', '14_25'], dtype=object)"
      ]
     },
     "execution_count": 11,
     "metadata": {},
     "output_type": "execute_result"
    }
   ],
   "source": [
    "#age group--> cambiar todo al formato año_año\n",
    "personal_info['age_group'].unique()"
   ]
  },
  {
   "cell_type": "code",
   "execution_count": 12,
   "metadata": {},
   "outputs": [
    {
     "name": "stdout",
     "output_type": "stream",
     "text": [
      "uuid                fee33680-da56-0133-c1d5-0a81e8b09a82\n",
      "age                                                 2002\n",
      "gender                                              Male\n",
      "dem_has_children                                     Yes\n",
      "age_group                                       juvenile\n",
      "dtype: object\n",
      "uuid                00199e00-d8c3-0133-c6b2-0a81e8b09a82\n",
      "age                                                 1991\n",
      "gender                                            Female\n",
      "dem_has_children                                      No\n",
      "age_group                                       juvenile\n",
      "dtype: object\n"
     ]
    }
   ],
   "source": [
    "#ver edad de juvenile\n",
    "juvenile = personal_info['age_group'].str.contains(\"juvenile\")\n",
    "print(personal_info[juvenile].max())\n",
    "print(personal_info[juvenile].min())"
   ]
  },
  {
   "cell_type": "code",
   "execution_count": 13,
   "metadata": {},
   "outputs": [
    {
     "data": {
      "text/plain": [
       "array(['40_65', '26_39', '14_25'], dtype=object)"
      ]
     },
     "execution_count": 13,
     "metadata": {},
     "output_type": "execute_result"
    }
   ],
   "source": [
    "#2016-2002=14 y 2016-1991=25 --> juvenile=14_25\n",
    "personal_info['age_group'] = personal_info['age_group'].replace('juvenile', '14_25')\n",
    "personal_info['age_group'].unique()"
   ]
  },
  {
   "cell_type": "markdown",
   "metadata": {},
   "source": [
    "## Country info"
   ]
  },
  {
   "cell_type": "code",
   "execution_count": 14,
   "metadata": {},
   "outputs": [
    {
     "data": {
      "text/html": [
       "<div>\n",
       "<style scoped>\n",
       "    .dataframe tbody tr th:only-of-type {\n",
       "        vertical-align: middle;\n",
       "    }\n",
       "\n",
       "    .dataframe tbody tr th {\n",
       "        vertical-align: top;\n",
       "    }\n",
       "\n",
       "    .dataframe thead th {\n",
       "        text-align: right;\n",
       "    }\n",
       "</style>\n",
       "<table border=\"1\" class=\"dataframe\">\n",
       "  <thead>\n",
       "    <tr style=\"text-align: right;\">\n",
       "      <th></th>\n",
       "      <th>uuid</th>\n",
       "      <th>country_code</th>\n",
       "      <th>rural</th>\n",
       "    </tr>\n",
       "  </thead>\n",
       "  <tbody>\n",
       "    <tr>\n",
       "      <th>0</th>\n",
       "      <td>f6e7ee00-deac-0133-4de8-0a81e8b09a82</td>\n",
       "      <td>AT</td>\n",
       "      <td>countryside</td>\n",
       "    </tr>\n",
       "    <tr>\n",
       "      <th>1</th>\n",
       "      <td>54f0f1c0-dda1-0133-a559-0a81e8b09a82</td>\n",
       "      <td>AT</td>\n",
       "      <td>urban</td>\n",
       "    </tr>\n",
       "    <tr>\n",
       "      <th>2</th>\n",
       "      <td>83127080-da3d-0133-c74f-0a81e8b09a82</td>\n",
       "      <td>AT</td>\n",
       "      <td>city</td>\n",
       "    </tr>\n",
       "    <tr>\n",
       "      <th>3</th>\n",
       "      <td>15626d40-db13-0133-ea5c-0a81e8b09a82</td>\n",
       "      <td>AT</td>\n",
       "      <td>Country</td>\n",
       "    </tr>\n",
       "    <tr>\n",
       "      <th>4</th>\n",
       "      <td>24954a70-db98-0133-4a64-0a81e8b09a82</td>\n",
       "      <td>AT</td>\n",
       "      <td>city</td>\n",
       "    </tr>\n",
       "    <tr>\n",
       "      <th>5</th>\n",
       "      <td>28583060-dbe2-0133-ff9c-0a81e8b09a82</td>\n",
       "      <td>AT</td>\n",
       "      <td>countryside</td>\n",
       "    </tr>\n",
       "    <tr>\n",
       "      <th>6</th>\n",
       "      <td>b50dbb80-da53-0133-8956-0a81e8b09a82</td>\n",
       "      <td>AT</td>\n",
       "      <td>urban</td>\n",
       "    </tr>\n",
       "    <tr>\n",
       "      <th>7</th>\n",
       "      <td>dd743bb0-d9a5-0133-53b2-0a81e8b09a82</td>\n",
       "      <td>AT</td>\n",
       "      <td>urban</td>\n",
       "    </tr>\n",
       "    <tr>\n",
       "      <th>8</th>\n",
       "      <td>4fde2370-da48-0133-3a42-0a81e8b09a82</td>\n",
       "      <td>AT</td>\n",
       "      <td>city</td>\n",
       "    </tr>\n",
       "    <tr>\n",
       "      <th>9</th>\n",
       "      <td>9949c4c0-da5f-0133-c832-0a81e8b09a82</td>\n",
       "      <td>AT</td>\n",
       "      <td>urban</td>\n",
       "    </tr>\n",
       "  </tbody>\n",
       "</table>\n",
       "</div>"
      ],
      "text/plain": [
       "                                   uuid country_code        rural\n",
       "0  f6e7ee00-deac-0133-4de8-0a81e8b09a82           AT  countryside\n",
       "1  54f0f1c0-dda1-0133-a559-0a81e8b09a82           AT        urban\n",
       "2  83127080-da3d-0133-c74f-0a81e8b09a82           AT         city\n",
       "3  15626d40-db13-0133-ea5c-0a81e8b09a82           AT      Country\n",
       "4  24954a70-db98-0133-4a64-0a81e8b09a82           AT         city\n",
       "5  28583060-dbe2-0133-ff9c-0a81e8b09a82           AT  countryside\n",
       "6  b50dbb80-da53-0133-8956-0a81e8b09a82           AT        urban\n",
       "7  dd743bb0-d9a5-0133-53b2-0a81e8b09a82           AT        urban\n",
       "8  4fde2370-da48-0133-3a42-0a81e8b09a82           AT         city\n",
       "9  9949c4c0-da5f-0133-c832-0a81e8b09a82           AT        urban"
      ]
     },
     "execution_count": 14,
     "metadata": {},
     "output_type": "execute_result"
    }
   ],
   "source": [
    "country_info = pd.read_sql_query(\"SELECT * FROM country_info\", engine)\n",
    "country_info.head(10) "
   ]
  },
  {
   "cell_type": "code",
   "execution_count": 15,
   "metadata": {},
   "outputs": [
    {
     "data": {
      "text/plain": [
       "array(['countryside', 'urban', 'city', 'Country', 'rural', 'Non-Rural'],\n",
       "      dtype=object)"
      ]
     },
     "execution_count": 15,
     "metadata": {},
     "output_type": "execute_result"
    }
   ],
   "source": [
    "#rural--> empezando en mayusculas. city=urban=non-rural. countryside=rural=country\n",
    "country_info['rural'].unique()"
   ]
  },
  {
   "cell_type": "code",
   "execution_count": 16,
   "metadata": {},
   "outputs": [
    {
     "data": {
      "text/plain": [
       "0       Countryside\n",
       "1             Urban\n",
       "2              City\n",
       "3           Country\n",
       "4              City\n",
       "           ...     \n",
       "9644          Urban\n",
       "9645          Urban\n",
       "9646      Non-rural\n",
       "9647           City\n",
       "9648           City\n",
       "Name: rural, Length: 9649, dtype: object"
      ]
     },
     "execution_count": 16,
     "metadata": {},
     "output_type": "execute_result"
    }
   ],
   "source": [
    "country_info['rural'] = country_info['rural'].str.capitalize()\n",
    "country_info['rural']"
   ]
  },
  {
   "cell_type": "code",
   "execution_count": 17,
   "metadata": {},
   "outputs": [
    {
     "data": {
      "text/plain": [
       "0       Countryside\n",
       "1             Urban\n",
       "2             Urban\n",
       "3           Country\n",
       "4             Urban\n",
       "           ...     \n",
       "9644          Urban\n",
       "9645          Urban\n",
       "9646      Non-rural\n",
       "9647          Urban\n",
       "9648          Urban\n",
       "Name: rural, Length: 9649, dtype: object"
      ]
     },
     "execution_count": 17,
     "metadata": {},
     "output_type": "execute_result"
    }
   ],
   "source": [
    "country_info['rural'] = country_info['rural'].replace('City', 'Urban')\n",
    "country_info['rural']"
   ]
  },
  {
   "cell_type": "code",
   "execution_count": 18,
   "metadata": {},
   "outputs": [
    {
     "data": {
      "text/plain": [
       "0       Countryside\n",
       "1             Urban\n",
       "2             Urban\n",
       "3           Country\n",
       "4             Urban\n",
       "           ...     \n",
       "9644          Urban\n",
       "9645          Urban\n",
       "9646          Urban\n",
       "9647          Urban\n",
       "9648          Urban\n",
       "Name: rural, Length: 9649, dtype: object"
      ]
     },
     "execution_count": 18,
     "metadata": {},
     "output_type": "execute_result"
    }
   ],
   "source": [
    "country_info['rural'] = country_info['rural'].replace('Non-rural', 'Urban')\n",
    "country_info['rural']"
   ]
  },
  {
   "cell_type": "code",
   "execution_count": 19,
   "metadata": {},
   "outputs": [
    {
     "data": {
      "text/plain": [
       "0         Rural\n",
       "1         Urban\n",
       "2         Urban\n",
       "3       Country\n",
       "4         Urban\n",
       "         ...   \n",
       "9644      Urban\n",
       "9645      Urban\n",
       "9646      Urban\n",
       "9647      Urban\n",
       "9648      Urban\n",
       "Name: rural, Length: 9649, dtype: object"
      ]
     },
     "execution_count": 19,
     "metadata": {},
     "output_type": "execute_result"
    }
   ],
   "source": [
    "country_info['rural'] = country_info['rural'].replace('Countryside', 'Rural')\n",
    "country_info['rural']"
   ]
  },
  {
   "cell_type": "code",
   "execution_count": 20,
   "metadata": {},
   "outputs": [
    {
     "data": {
      "text/html": [
       "<div>\n",
       "<style scoped>\n",
       "    .dataframe tbody tr th:only-of-type {\n",
       "        vertical-align: middle;\n",
       "    }\n",
       "\n",
       "    .dataframe tbody tr th {\n",
       "        vertical-align: top;\n",
       "    }\n",
       "\n",
       "    .dataframe thead th {\n",
       "        text-align: right;\n",
       "    }\n",
       "</style>\n",
       "<table border=\"1\" class=\"dataframe\">\n",
       "  <thead>\n",
       "    <tr style=\"text-align: right;\">\n",
       "      <th></th>\n",
       "      <th>uuid</th>\n",
       "      <th>country_code</th>\n",
       "      <th>rural</th>\n",
       "    </tr>\n",
       "  </thead>\n",
       "  <tbody>\n",
       "    <tr>\n",
       "      <th>0</th>\n",
       "      <td>f6e7ee00-deac-0133-4de8-0a81e8b09a82</td>\n",
       "      <td>AT</td>\n",
       "      <td>Rural</td>\n",
       "    </tr>\n",
       "    <tr>\n",
       "      <th>1</th>\n",
       "      <td>54f0f1c0-dda1-0133-a559-0a81e8b09a82</td>\n",
       "      <td>AT</td>\n",
       "      <td>Urban</td>\n",
       "    </tr>\n",
       "    <tr>\n",
       "      <th>2</th>\n",
       "      <td>83127080-da3d-0133-c74f-0a81e8b09a82</td>\n",
       "      <td>AT</td>\n",
       "      <td>Urban</td>\n",
       "    </tr>\n",
       "    <tr>\n",
       "      <th>3</th>\n",
       "      <td>15626d40-db13-0133-ea5c-0a81e8b09a82</td>\n",
       "      <td>AT</td>\n",
       "      <td>Rural</td>\n",
       "    </tr>\n",
       "    <tr>\n",
       "      <th>4</th>\n",
       "      <td>24954a70-db98-0133-4a64-0a81e8b09a82</td>\n",
       "      <td>AT</td>\n",
       "      <td>Urban</td>\n",
       "    </tr>\n",
       "    <tr>\n",
       "      <th>5</th>\n",
       "      <td>28583060-dbe2-0133-ff9c-0a81e8b09a82</td>\n",
       "      <td>AT</td>\n",
       "      <td>Rural</td>\n",
       "    </tr>\n",
       "    <tr>\n",
       "      <th>6</th>\n",
       "      <td>b50dbb80-da53-0133-8956-0a81e8b09a82</td>\n",
       "      <td>AT</td>\n",
       "      <td>Urban</td>\n",
       "    </tr>\n",
       "    <tr>\n",
       "      <th>7</th>\n",
       "      <td>dd743bb0-d9a5-0133-53b2-0a81e8b09a82</td>\n",
       "      <td>AT</td>\n",
       "      <td>Urban</td>\n",
       "    </tr>\n",
       "    <tr>\n",
       "      <th>8</th>\n",
       "      <td>4fde2370-da48-0133-3a42-0a81e8b09a82</td>\n",
       "      <td>AT</td>\n",
       "      <td>Urban</td>\n",
       "    </tr>\n",
       "    <tr>\n",
       "      <th>9</th>\n",
       "      <td>9949c4c0-da5f-0133-c832-0a81e8b09a82</td>\n",
       "      <td>AT</td>\n",
       "      <td>Urban</td>\n",
       "    </tr>\n",
       "    <tr>\n",
       "      <th>10</th>\n",
       "      <td>226cf850-db28-0133-c51a-0a81e8b09a82</td>\n",
       "      <td>AT</td>\n",
       "      <td>Urban</td>\n",
       "    </tr>\n",
       "    <tr>\n",
       "      <th>11</th>\n",
       "      <td>69f1f400-dc5f-0133-ad9b-0a81e8b09a82</td>\n",
       "      <td>AT</td>\n",
       "      <td>Urban</td>\n",
       "    </tr>\n",
       "    <tr>\n",
       "      <th>12</th>\n",
       "      <td>2351fbe0-de4c-0133-0d58-0a81e8b09a82</td>\n",
       "      <td>AT</td>\n",
       "      <td>Urban</td>\n",
       "    </tr>\n",
       "    <tr>\n",
       "      <th>13</th>\n",
       "      <td>0f286c80-dd77-0133-7803-0a81e8b09a82</td>\n",
       "      <td>AT</td>\n",
       "      <td>Rural</td>\n",
       "    </tr>\n",
       "    <tr>\n",
       "      <th>14</th>\n",
       "      <td>fe54f360-db27-0133-c444-0a81e8b09a82</td>\n",
       "      <td>AT</td>\n",
       "      <td>Rural</td>\n",
       "    </tr>\n",
       "  </tbody>\n",
       "</table>\n",
       "</div>"
      ],
      "text/plain": [
       "                                    uuid country_code  rural\n",
       "0   f6e7ee00-deac-0133-4de8-0a81e8b09a82           AT  Rural\n",
       "1   54f0f1c0-dda1-0133-a559-0a81e8b09a82           AT  Urban\n",
       "2   83127080-da3d-0133-c74f-0a81e8b09a82           AT  Urban\n",
       "3   15626d40-db13-0133-ea5c-0a81e8b09a82           AT  Rural\n",
       "4   24954a70-db98-0133-4a64-0a81e8b09a82           AT  Urban\n",
       "5   28583060-dbe2-0133-ff9c-0a81e8b09a82           AT  Rural\n",
       "6   b50dbb80-da53-0133-8956-0a81e8b09a82           AT  Urban\n",
       "7   dd743bb0-d9a5-0133-53b2-0a81e8b09a82           AT  Urban\n",
       "8   4fde2370-da48-0133-3a42-0a81e8b09a82           AT  Urban\n",
       "9   9949c4c0-da5f-0133-c832-0a81e8b09a82           AT  Urban\n",
       "10  226cf850-db28-0133-c51a-0a81e8b09a82           AT  Urban\n",
       "11  69f1f400-dc5f-0133-ad9b-0a81e8b09a82           AT  Urban\n",
       "12  2351fbe0-de4c-0133-0d58-0a81e8b09a82           AT  Urban\n",
       "13  0f286c80-dd77-0133-7803-0a81e8b09a82           AT  Rural\n",
       "14  fe54f360-db27-0133-c444-0a81e8b09a82           AT  Rural"
      ]
     },
     "execution_count": 20,
     "metadata": {},
     "output_type": "execute_result"
    }
   ],
   "source": [
    "country_info['rural'] = country_info['rural'].replace('Country', 'Rural')\n",
    "country_info.head(15)"
   ]
  },
  {
   "cell_type": "markdown",
   "metadata": {},
   "source": [
    "## Career info"
   ]
  },
  {
   "cell_type": "code",
   "execution_count": 21,
   "metadata": {},
   "outputs": [
    {
     "data": {
      "text/html": [
       "<div>\n",
       "<style scoped>\n",
       "    .dataframe tbody tr th:only-of-type {\n",
       "        vertical-align: middle;\n",
       "    }\n",
       "\n",
       "    .dataframe tbody tr th {\n",
       "        vertical-align: top;\n",
       "    }\n",
       "\n",
       "    .dataframe thead th {\n",
       "        text-align: right;\n",
       "    }\n",
       "</style>\n",
       "<table border=\"1\" class=\"dataframe\">\n",
       "  <thead>\n",
       "    <tr style=\"text-align: right;\">\n",
       "      <th></th>\n",
       "      <th>uuid</th>\n",
       "      <th>dem_education_level</th>\n",
       "      <th>dem_full_time_job</th>\n",
       "      <th>normalized_job_code</th>\n",
       "    </tr>\n",
       "  </thead>\n",
       "  <tbody>\n",
       "    <tr>\n",
       "      <th>0</th>\n",
       "      <td>f6e7ee00-deac-0133-4de8-0a81e8b09a82</td>\n",
       "      <td>no</td>\n",
       "      <td>no</td>\n",
       "      <td>None</td>\n",
       "    </tr>\n",
       "    <tr>\n",
       "      <th>1</th>\n",
       "      <td>54f0f1c0-dda1-0133-a559-0a81e8b09a82</td>\n",
       "      <td>high</td>\n",
       "      <td>yes</td>\n",
       "      <td>861a9b9151e11362eb3c77ca914172d0</td>\n",
       "    </tr>\n",
       "    <tr>\n",
       "      <th>2</th>\n",
       "      <td>83127080-da3d-0133-c74f-0a81e8b09a82</td>\n",
       "      <td>None</td>\n",
       "      <td>no</td>\n",
       "      <td>None</td>\n",
       "    </tr>\n",
       "    <tr>\n",
       "      <th>3</th>\n",
       "      <td>15626d40-db13-0133-ea5c-0a81e8b09a82</td>\n",
       "      <td>high</td>\n",
       "      <td>yes</td>\n",
       "      <td>049a3f3a2b5f85cb2971ba77ad66e10c</td>\n",
       "    </tr>\n",
       "    <tr>\n",
       "      <th>4</th>\n",
       "      <td>24954a70-db98-0133-4a64-0a81e8b09a82</td>\n",
       "      <td>high</td>\n",
       "      <td>yes</td>\n",
       "      <td>f4b2fb1aa40f661488e2782b6d57ad2f</td>\n",
       "    </tr>\n",
       "    <tr>\n",
       "      <th>5</th>\n",
       "      <td>28583060-dbe2-0133-ff9c-0a81e8b09a82</td>\n",
       "      <td>high</td>\n",
       "      <td>yes</td>\n",
       "      <td>27af8700f5577cec835acee2cb90a2ff</td>\n",
       "    </tr>\n",
       "    <tr>\n",
       "      <th>6</th>\n",
       "      <td>b50dbb80-da53-0133-8956-0a81e8b09a82</td>\n",
       "      <td>medium</td>\n",
       "      <td>no</td>\n",
       "      <td>None</td>\n",
       "    </tr>\n",
       "    <tr>\n",
       "      <th>7</th>\n",
       "      <td>dd743bb0-d9a5-0133-53b2-0a81e8b09a82</td>\n",
       "      <td>medium</td>\n",
       "      <td>yes</td>\n",
       "      <td>c1b670eba9ccb65e7c99f7da116d5b9c</td>\n",
       "    </tr>\n",
       "    <tr>\n",
       "      <th>8</th>\n",
       "      <td>4fde2370-da48-0133-3a42-0a81e8b09a82</td>\n",
       "      <td>medium</td>\n",
       "      <td>yes</td>\n",
       "      <td>d71c4164c99a5f9bca773e755a72f40f</td>\n",
       "    </tr>\n",
       "    <tr>\n",
       "      <th>9</th>\n",
       "      <td>9949c4c0-da5f-0133-c832-0a81e8b09a82</td>\n",
       "      <td>no</td>\n",
       "      <td>no</td>\n",
       "      <td>None</td>\n",
       "    </tr>\n",
       "  </tbody>\n",
       "</table>\n",
       "</div>"
      ],
      "text/plain": [
       "                                   uuid dem_education_level dem_full_time_job  \\\n",
       "0  f6e7ee00-deac-0133-4de8-0a81e8b09a82                  no                no   \n",
       "1  54f0f1c0-dda1-0133-a559-0a81e8b09a82                high               yes   \n",
       "2  83127080-da3d-0133-c74f-0a81e8b09a82                None                no   \n",
       "3  15626d40-db13-0133-ea5c-0a81e8b09a82                high               yes   \n",
       "4  24954a70-db98-0133-4a64-0a81e8b09a82                high               yes   \n",
       "5  28583060-dbe2-0133-ff9c-0a81e8b09a82                high               yes   \n",
       "6  b50dbb80-da53-0133-8956-0a81e8b09a82              medium                no   \n",
       "7  dd743bb0-d9a5-0133-53b2-0a81e8b09a82              medium               yes   \n",
       "8  4fde2370-da48-0133-3a42-0a81e8b09a82              medium               yes   \n",
       "9  9949c4c0-da5f-0133-c832-0a81e8b09a82                  no                no   \n",
       "\n",
       "                normalized_job_code  \n",
       "0                              None  \n",
       "1  861a9b9151e11362eb3c77ca914172d0  \n",
       "2                              None  \n",
       "3  049a3f3a2b5f85cb2971ba77ad66e10c  \n",
       "4  f4b2fb1aa40f661488e2782b6d57ad2f  \n",
       "5  27af8700f5577cec835acee2cb90a2ff  \n",
       "6                              None  \n",
       "7  c1b670eba9ccb65e7c99f7da116d5b9c  \n",
       "8  d71c4164c99a5f9bca773e755a72f40f  \n",
       "9                              None  "
      ]
     },
     "execution_count": 21,
     "metadata": {},
     "output_type": "execute_result"
    }
   ],
   "source": [
    "career_info = pd.read_sql_query(\"SELECT * FROM career_info\", engine)\n",
    "career_info.head(10)"
   ]
  },
  {
   "cell_type": "markdown",
   "metadata": {},
   "source": [
    "## Poll info"
   ]
  },
  {
   "cell_type": "code",
   "execution_count": 22,
   "metadata": {},
   "outputs": [
    {
     "data": {
      "text/html": [
       "<div>\n",
       "<style scoped>\n",
       "    .dataframe tbody tr th:only-of-type {\n",
       "        vertical-align: middle;\n",
       "    }\n",
       "\n",
       "    .dataframe tbody tr th {\n",
       "        vertical-align: top;\n",
       "    }\n",
       "\n",
       "    .dataframe thead th {\n",
       "        text-align: right;\n",
       "    }\n",
       "</style>\n",
       "<table border=\"1\" class=\"dataframe\">\n",
       "  <thead>\n",
       "    <tr style=\"text-align: right;\">\n",
       "      <th></th>\n",
       "      <th>uuid</th>\n",
       "      <th>question_bbi_2016wave4_basicincome_awareness</th>\n",
       "      <th>question_bbi_2016wave4_basicincome_vote</th>\n",
       "      <th>question_bbi_2016wave4_basicincome_effect</th>\n",
       "      <th>question_bbi_2016wave4_basicincome_argumentsfor</th>\n",
       "      <th>question_bbi_2016wave4_basicincome_argumentsagainst</th>\n",
       "    </tr>\n",
       "  </thead>\n",
       "  <tbody>\n",
       "    <tr>\n",
       "      <th>0</th>\n",
       "      <td>f6e7ee00-deac-0133-4de8-0a81e8b09a82</td>\n",
       "      <td>I know something about it</td>\n",
       "      <td>I would not vote</td>\n",
       "      <td>None of the above</td>\n",
       "      <td>None of the above</td>\n",
       "      <td>None of the above</td>\n",
       "    </tr>\n",
       "    <tr>\n",
       "      <th>1</th>\n",
       "      <td>54f0f1c0-dda1-0133-a559-0a81e8b09a82</td>\n",
       "      <td>I understand it fully</td>\n",
       "      <td>I would probably vote for it</td>\n",
       "      <td>A basic income would not affect my work choices</td>\n",
       "      <td>It increases appreciation for household work a...</td>\n",
       "      <td>It might encourage people to stop working</td>\n",
       "    </tr>\n",
       "    <tr>\n",
       "      <th>2</th>\n",
       "      <td>83127080-da3d-0133-c74f-0a81e8b09a82</td>\n",
       "      <td>I have heard just a little about it</td>\n",
       "      <td>I would not vote</td>\n",
       "      <td>‰Û_ gain additional skills</td>\n",
       "      <td>It creates more equality of opportunity</td>\n",
       "      <td>Foreigners might come to my country and take a...</td>\n",
       "    </tr>\n",
       "    <tr>\n",
       "      <th>3</th>\n",
       "      <td>15626d40-db13-0133-ea5c-0a81e8b09a82</td>\n",
       "      <td>I have heard just a little about it</td>\n",
       "      <td>I would probably vote for it</td>\n",
       "      <td>‰Û_ work less</td>\n",
       "      <td>It reduces anxiety about financing basic needs</td>\n",
       "      <td>None of the above</td>\n",
       "    </tr>\n",
       "    <tr>\n",
       "      <th>4</th>\n",
       "      <td>24954a70-db98-0133-4a64-0a81e8b09a82</td>\n",
       "      <td>I have heard just a little about it</td>\n",
       "      <td>I would probably vote for it</td>\n",
       "      <td>None of the above</td>\n",
       "      <td>It reduces anxiety about financing basic needs</td>\n",
       "      <td>It is impossible to finance | It might encoura...</td>\n",
       "    </tr>\n",
       "    <tr>\n",
       "      <th>5</th>\n",
       "      <td>28583060-dbe2-0133-ff9c-0a81e8b09a82</td>\n",
       "      <td>I understand it fully</td>\n",
       "      <td>I would vote against it</td>\n",
       "      <td>A basic income would not affect my work choices</td>\n",
       "      <td>It encourages financial independence and self-...</td>\n",
       "      <td>It is impossible to finance | It might encoura...</td>\n",
       "    </tr>\n",
       "    <tr>\n",
       "      <th>6</th>\n",
       "      <td>b50dbb80-da53-0133-8956-0a81e8b09a82</td>\n",
       "      <td>I know something about it</td>\n",
       "      <td>I would probably vote for it</td>\n",
       "      <td>‰Û_ work as a freelancer</td>\n",
       "      <td>It reduces anxiety about financing basic needs</td>\n",
       "      <td>Foreigners might come to my country and take a...</td>\n",
       "    </tr>\n",
       "    <tr>\n",
       "      <th>7</th>\n",
       "      <td>dd743bb0-d9a5-0133-53b2-0a81e8b09a82</td>\n",
       "      <td>I know something about it</td>\n",
       "      <td>I would probably vote for it</td>\n",
       "      <td>A basic income would not affect my work choices</td>\n",
       "      <td>It increases appreciation for household work a...</td>\n",
       "      <td>It might encourage people to stop working | Fo...</td>\n",
       "    </tr>\n",
       "    <tr>\n",
       "      <th>8</th>\n",
       "      <td>4fde2370-da48-0133-3a42-0a81e8b09a82</td>\n",
       "      <td>I have heard just a little about it</td>\n",
       "      <td>I would probably vote for it</td>\n",
       "      <td>None of the above</td>\n",
       "      <td>It creates more equality of opportunity | It r...</td>\n",
       "      <td>Foreigners might come to my country and take a...</td>\n",
       "    </tr>\n",
       "    <tr>\n",
       "      <th>9</th>\n",
       "      <td>9949c4c0-da5f-0133-c832-0a81e8b09a82</td>\n",
       "      <td>I understand it fully</td>\n",
       "      <td>I would vote for it</td>\n",
       "      <td>‰Û_ do more volunteering work</td>\n",
       "      <td>It increases solidarity, because it is funded ...</td>\n",
       "      <td>Foreigners might come to my country and take a...</td>\n",
       "    </tr>\n",
       "  </tbody>\n",
       "</table>\n",
       "</div>"
      ],
      "text/plain": [
       "                                   uuid  \\\n",
       "0  f6e7ee00-deac-0133-4de8-0a81e8b09a82   \n",
       "1  54f0f1c0-dda1-0133-a559-0a81e8b09a82   \n",
       "2  83127080-da3d-0133-c74f-0a81e8b09a82   \n",
       "3  15626d40-db13-0133-ea5c-0a81e8b09a82   \n",
       "4  24954a70-db98-0133-4a64-0a81e8b09a82   \n",
       "5  28583060-dbe2-0133-ff9c-0a81e8b09a82   \n",
       "6  b50dbb80-da53-0133-8956-0a81e8b09a82   \n",
       "7  dd743bb0-d9a5-0133-53b2-0a81e8b09a82   \n",
       "8  4fde2370-da48-0133-3a42-0a81e8b09a82   \n",
       "9  9949c4c0-da5f-0133-c832-0a81e8b09a82   \n",
       "\n",
       "  question_bbi_2016wave4_basicincome_awareness  \\\n",
       "0                    I know something about it   \n",
       "1                        I understand it fully   \n",
       "2          I have heard just a little about it   \n",
       "3          I have heard just a little about it   \n",
       "4          I have heard just a little about it   \n",
       "5                        I understand it fully   \n",
       "6                    I know something about it   \n",
       "7                    I know something about it   \n",
       "8          I have heard just a little about it   \n",
       "9                        I understand it fully   \n",
       "\n",
       "  question_bbi_2016wave4_basicincome_vote  \\\n",
       "0                        I would not vote   \n",
       "1            I would probably vote for it   \n",
       "2                        I would not vote   \n",
       "3            I would probably vote for it   \n",
       "4            I would probably vote for it   \n",
       "5                 I would vote against it   \n",
       "6            I would probably vote for it   \n",
       "7            I would probably vote for it   \n",
       "8            I would probably vote for it   \n",
       "9                     I would vote for it   \n",
       "\n",
       "         question_bbi_2016wave4_basicincome_effect  \\\n",
       "0                                None of the above   \n",
       "1  A basic income would not affect my work choices   \n",
       "2                       ‰Û_ gain additional skills   \n",
       "3                                    ‰Û_ work less   \n",
       "4                                None of the above   \n",
       "5  A basic income would not affect my work choices   \n",
       "6                         ‰Û_ work as a freelancer   \n",
       "7  A basic income would not affect my work choices   \n",
       "8                                None of the above   \n",
       "9                    ‰Û_ do more volunteering work   \n",
       "\n",
       "     question_bbi_2016wave4_basicincome_argumentsfor  \\\n",
       "0                                  None of the above   \n",
       "1  It increases appreciation for household work a...   \n",
       "2            It creates more equality of opportunity   \n",
       "3     It reduces anxiety about financing basic needs   \n",
       "4     It reduces anxiety about financing basic needs   \n",
       "5  It encourages financial independence and self-...   \n",
       "6     It reduces anxiety about financing basic needs   \n",
       "7  It increases appreciation for household work a...   \n",
       "8  It creates more equality of opportunity | It r...   \n",
       "9  It increases solidarity, because it is funded ...   \n",
       "\n",
       "  question_bbi_2016wave4_basicincome_argumentsagainst  \n",
       "0                                  None of the above   \n",
       "1          It might encourage people to stop working   \n",
       "2  Foreigners might come to my country and take a...   \n",
       "3                                  None of the above   \n",
       "4  It is impossible to finance | It might encoura...   \n",
       "5  It is impossible to finance | It might encoura...   \n",
       "6  Foreigners might come to my country and take a...   \n",
       "7  It might encourage people to stop working | Fo...   \n",
       "8  Foreigners might come to my country and take a...   \n",
       "9  Foreigners might come to my country and take a...   "
      ]
     },
     "execution_count": 22,
     "metadata": {},
     "output_type": "execute_result"
    }
   ],
   "source": [
    "poll_info = pd.read_sql_query(\"SELECT * FROM poll_info\", engine)\n",
    "poll_info.head(10)"
   ]
  },
  {
   "cell_type": "code",
   "execution_count": null,
   "metadata": {},
   "outputs": [],
   "source": []
  }
 ],
 "metadata": {
  "kernelspec": {
   "display_name": "Python [conda env:ironhack_env]",
   "language": "python",
   "name": "conda-env-ironhack_env-py"
  },
  "language_info": {
   "codemirror_mode": {
    "name": "ipython",
    "version": 3
   },
   "file_extension": ".py",
   "mimetype": "text/x-python",
   "name": "python",
   "nbconvert_exporter": "python",
   "pygments_lexer": "ipython3",
   "version": "3.8.5"
  }
 },
 "nbformat": 4,
 "nbformat_minor": 4
}
